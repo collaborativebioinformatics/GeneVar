{
 "cells": [
  {
   "cell_type": "code",
   "execution_count": 1,
   "metadata": {},
   "outputs": [],
   "source": [
    "library(ggplot2)"
   ]
  },
  {
   "cell_type": "code",
   "execution_count": 2,
   "metadata": {},
   "outputs": [
    {
     "name": "stderr",
     "output_type": "stream",
     "text": [
      "`stat_bin()` using `bins = 30`. Pick better value with `binwidth`.\n",
      "\n"
     ]
    },
    {
     "data": {
      "image/png": "[encoded data removed]",
      "text/plain": [
       "plot without title"
      ]
     },
     "metadata": {
      "image/png": {
       "height": 420,
       "width": 420
      }
     },
     "output_type": "display_data"
    }
   ],
   "source": [
    "qplot(rnorm(1000))"
   ]
  },
  {
   "cell_type": "markdown",
   "metadata": {},
   "source": [
    "# Import data from the project\n",
    "In a console I ran `dx download dbVar_NR_SVs/GRCh38.nr_deletions.bed.gz` to download a file locally."
   ]
  },
  {
   "cell_type": "code",
   "execution_count": 4,
   "metadata": {},
   "outputs": [
    {
     "data": {
      "text/html": [
       "<table>\n",
       "<caption>A data.frame: 6 × 4</caption>\n",
       "<thead>\n",
       "\t<tr><th></th><th scope=col>V1</th><th scope=col>V2</th><th scope=col>V3</th><th scope=col>V4</th></tr>\n",
       "\t<tr><th></th><th scope=col>&lt;chr&gt;</th><th scope=col>&lt;int&gt;</th><th scope=col>&lt;int&gt;</th><th scope=col>&lt;chr&gt;</th></tr>\n",
       "</thead>\n",
       "<tbody>\n",
       "\t<tr><th scope=row>1</th><td>chr1</td><td>10000</td><td>1535693</td><td>chr1_10000_1535693_del</td></tr>\n",
       "\t<tr><th scope=row>2</th><td>chr1</td><td>10000</td><td>2368561</td><td>chr1_10000_2368561_del</td></tr>\n",
       "\t<tr><th scope=row>3</th><td>chr1</td><td>10000</td><td>2777471</td><td>chr1_10000_2777471_del</td></tr>\n",
       "\t<tr><th scope=row>4</th><td>chr1</td><td>10000</td><td>2940953</td><td>chr1_10000_2940953_del</td></tr>\n",
       "\t<tr><th scope=row>5</th><td>chr1</td><td>10000</td><td>3792349</td><td>chr1_10000_3792349_del</td></tr>\n",
       "\t<tr><th scope=row>6</th><td>chr1</td><td>10000</td><td>4018458</td><td>chr1_10000_4018458_del</td></tr>\n",
       "</tbody>\n",
       "</table>\n"
      ],
      "text/latex": [
       "A data.frame: 6 × 4\n",
       "\\begin{tabular}{r|llll}\n",
       "  & V1 & V2 & V3 & V4\\\\\n",
       "  & <chr> & <int> & <int> & <chr>\\\\\n",
       "\\hline\n",
       "\t1 & chr1 & 10000 & 1535693 & chr1\\_10000\\_1535693\\_del\\\\\n",
       "\t2 & chr1 & 10000 & 2368561 & chr1\\_10000\\_2368561\\_del\\\\\n",
       "\t3 & chr1 & 10000 & 2777471 & chr1\\_10000\\_2777471\\_del\\\\\n",
       "\t4 & chr1 & 10000 & 2940953 & chr1\\_10000\\_2940953\\_del\\\\\n",
       "\t5 & chr1 & 10000 & 3792349 & chr1\\_10000\\_3792349\\_del\\\\\n",
       "\t6 & chr1 & 10000 & 4018458 & chr1\\_10000\\_4018458\\_del\\\\\n",
       "\\end{tabular}\n"
      ],
      "text/markdown": [
       "\n",
       "A data.frame: 6 × 4\n",
       "\n",
       "| <!--/--> | V1 &lt;chr&gt; | V2 &lt;int&gt; | V3 &lt;int&gt; | V4 &lt;chr&gt; |\n",
       "|---|---|---|---|---|\n",
       "| 1 | chr1 | 10000 | 1535693 | chr1_10000_1535693_del |\n",
       "| 2 | chr1 | 10000 | 2368561 | chr1_10000_2368561_del |\n",
       "| 3 | chr1 | 10000 | 2777471 | chr1_10000_2777471_del |\n",
       "| 4 | chr1 | 10000 | 2940953 | chr1_10000_2940953_del |\n",
       "| 5 | chr1 | 10000 | 3792349 | chr1_10000_3792349_del |\n",
       "| 6 | chr1 | 10000 | 4018458 | chr1_10000_4018458_del |\n",
       "\n"
      ],
      "text/plain": [
       "  V1   V2    V3      V4                    \n",
       "1 chr1 10000 1535693 chr1_10000_1535693_del\n",
       "2 chr1 10000 2368561 chr1_10000_2368561_del\n",
       "3 chr1 10000 2777471 chr1_10000_2777471_del\n",
       "4 chr1 10000 2940953 chr1_10000_2940953_del\n",
       "5 chr1 10000 3792349 chr1_10000_3792349_del\n",
       "6 chr1 10000 4018458 chr1_10000_4018458_del"
      ]
     },
     "metadata": {},
     "output_type": "display_data"
    }
   ],
   "source": [
    "dels = read.table('GRCh38.nr_deletions.bed.gz', as.is=TRUE)\n",
    "head(dels)"
   ]
  },
  {
   "cell_type": "markdown",
   "metadata": {},
   "source": [
    "Let's find the subset of deletions overlapping a particular region."
   ]
  },
  {
   "cell_type": "code",
   "execution_count": 6,
   "metadata": {},
   "outputs": [
    {
     "name": "stderr",
     "output_type": "stream",
     "text": [
      "Loading required package: GenomicRanges\n",
      "\n",
      "Warning message in library(package, lib.loc = lib.loc, character.only = TRUE, logical.return = TRUE, :\n",
      "“there is no package called ‘GenomicRanges’”\n",
      "Bioconductor version 3.10 (BiocManager 1.30.10), R 3.6.3 (2020-02-29)\n",
      "\n",
      "Installing package(s) 'GenomicRanges'\n",
      "\n",
      "also installing the dependencies ‘bitops’, ‘RCurl’, ‘GenomeInfoDbData’, ‘S4Vectors’, ‘IRanges’, ‘GenomeInfoDb’, ‘XVector’\n",
      "\n",
      "\n",
      "Old packages: 'callr', 'cli', 'clipr', 'cpp11', 'gmp', 'htmlwidgets', 'ps',\n",
      "  'quantreg', 'rlang', 'tibble', 'spatial'\n",
      "\n",
      "Loading required package: stats4\n",
      "\n",
      "Loading required package: BiocGenerics\n",
      "\n",
      "Loading required package: parallel\n",
      "\n",
      "\n",
      "Attaching package: ‘BiocGenerics’\n",
      "\n",
      "\n",
      "The following objects are masked from ‘package:parallel’:\n",
      "\n",
      "    clusterApply, clusterApplyLB, clusterCall, clusterEvalQ,\n",
      "    clusterExport, clusterMap, parApply, parCapply, parLapply,\n",
      "    parLapplyLB, parRapply, parSapply, parSapplyLB\n",
      "\n",
      "\n",
      "The following objects are masked from ‘package:stats’:\n",
      "\n",
      "    IQR, mad, sd, var, xtabs\n",
      "\n",
      "\n",
      "The following objects are masked from ‘package:base’:\n",
      "\n",
      "    anyDuplicated, append, as.data.frame, basename, cbind, colnames,\n",
      "    dirname, do.call, duplicated, eval, evalq, Filter, Find, get, grep,\n",
      "    grepl, intersect, is.unsorted, lapply, Map, mapply, match, mget,\n",
      "    order, paste, pmax, pmax.int, pmin, pmin.int, Position, rank,\n",
      "    rbind, Reduce, rownames, sapply, setdiff, sort, table, tapply,\n",
      "    union, unique, unsplit, which, which.max, which.min\n",
      "\n",
      "\n",
      "Loading required package: S4Vectors\n",
      "\n",
      "\n",
      "Attaching package: ‘S4Vectors’\n",
      "\n",
      "\n",
      "The following object is masked from ‘package:base’:\n",
      "\n",
      "    expand.grid\n",
      "\n",
      "\n",
      "Loading required package: IRanges\n",
      "\n",
      "Loading required package: GenomeInfoDb\n",
      "\n"
     ]
    }
   ],
   "source": [
    "if(!require(GenomicRanges)){\n",
    "    BiocManager::install('GenomicRanges')\n",
    "    library(GenomicRanges)\n",
    "}"
   ]
  },
  {
   "cell_type": "code",
   "execution_count": 7,
   "metadata": {},
   "outputs": [
    {
     "name": "stdout",
     "output_type": "stream",
     "text": [
      "'data.frame':\t38 obs. of  4 variables:\n",
      " $ V1: chr  \"chr2\" \"chr2\" \"chr2\" \"chr2\" ...\n",
      " $ V2: int  32866938 32866974 50659293 88794281 92137846 110076071 115302066 118086323 118114818 119813786 ...\n",
      " $ V3: int  140605772 202040167 242160331 182456172 132208942 242160331 129071130 134964738 127312237 140869718 ...\n",
      " $ V4: chr  \"chr2_32866938_140605772_del\" \"chr2_32866974_202040167_del\" \"chr2_50659293_242160331_del\" \"chr2_88794281_182456172_del\" ...\n"
     ]
    }
   ],
   "source": [
    "dels.gr = GRanges(dels$V1, IRanges(dels$V2, dels$V3))\n",
    "region = GRanges('chr2:127257290-127294176')\n",
    "dels.reg = dels[which(overlapsAny(dels.gr, region)),]\n",
    "str(dels.reg)"
   ]
  },
  {
   "cell_type": "markdown",
   "metadata": {},
   "source": [
    "38 deletions"
   ]
  },
  {
   "cell_type": "markdown",
   "metadata": {},
   "source": [
    "# Export data to the project"
   ]
  },
  {
   "cell_type": "code",
   "execution_count": 9,
   "metadata": {},
   "outputs": [],
   "source": [
    "write.table(dels.reg, file='deletions-test-notebooks-ERCC3.tsv', row.names=FALSE, sep='\\t', quote=FALSE)"
   ]
  },
  {
   "cell_type": "markdown",
   "metadata": {},
   "source": [
    "To save the new file and this notebook to our project space I ran:\n",
    "```\n",
    "dx upload deletions-test-notebooks-ERCC3.tsv --path jmonlong-notebook-test/\n",
    "dx upload test_notebook_r.ipynb --path jmonlong-notebook-test/\n",
    "```"
   ]
  },
  {
   "cell_type": "code",
   "execution_count": null,
   "metadata": {},
   "outputs": [],
   "source": []
  }
 ],
 "metadata": {
  "kernelspec": {
   "display_name": "R",
   "language": "R",
   "name": "ir"
  },
  "language_info": {
   "codemirror_mode": "r",
   "file_extension": ".r",
   "mimetype": "text/x-r-source",
   "name": "R",
   "pygments_lexer": "r",
   "version": "3.6.3"
  }
 },
 "nbformat": 4,
 "nbformat_minor": 4
}
