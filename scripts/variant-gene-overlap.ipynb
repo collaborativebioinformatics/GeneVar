{
 "cells": [
  {
   "cell_type": "markdown",
   "metadata": {},
   "source": [
    "```\n",
    "dx download Annotation/gene/gencode.v35.annotation.gff3.gz\n",
    "dx download chr-subset-genes-variants/all_variants_chr21.tsv\n",
    "```"
   ]
  },
  {
   "cell_type": "code",
   "execution_count": null,
   "metadata": {},
   "outputs": [],
   "source": [
    "library(rtracklayer)"
   ]
  },
  {
   "cell_type": "code",
   "execution_count": null,
   "metadata": {},
   "outputs": [],
   "source": [
    "genc = import('gencode.v35.annotation.gff3.gz')\n",
    "genc"
   ]
  },
  {
   "cell_type": "code",
   "execution_count": 3,
   "metadata": {},
   "outputs": [
    {
     "data": {
      "text/plain": [
       "GRanges object with 2949356 ranges and 23 metadata columns:\n",
       "            seqnames      ranges strand |   source       type     score\n",
       "               <Rle>   <IRanges>  <Rle> | <factor>   <factor> <numeric>\n",
       "        [1]     chr1 11869-14409      + |   HAVANA       gene      <NA>\n",
       "        [2]     chr1 11869-14409      + |   HAVANA transcript      <NA>\n",
       "        [3]     chr1 11869-12227      + |   HAVANA       exon      <NA>\n",
       "        [4]     chr1 12613-12721      + |   HAVANA       exon      <NA>\n",
       "        [5]     chr1 13221-14409      + |   HAVANA       exon      <NA>\n",
       "        ...      ...         ...    ... .      ...        ...       ...\n",
       "  [2949352]     chrM 15888-15953      + |  ENSEMBL transcript      <NA>\n",
       "  [2949353]     chrM 15888-15953      + |  ENSEMBL       exon      <NA>\n",
       "  [2949354]     chrM 15956-16023      - |  ENSEMBL       gene      <NA>\n",
       "  [2949355]     chrM 15956-16023      - |  ENSEMBL transcript      <NA>\n",
       "  [2949356]     chrM 15956-16023      - |  ENSEMBL       exon      <NA>\n",
       "                phase                       ID           gene_id\n",
       "            <integer>              <character>       <character>\n",
       "        [1]      <NA>        ENSG00000223972.5 ENSG00000223972.5\n",
       "        [2]      <NA>        ENST00000456328.2 ENSG00000223972.5\n",
       "        [3]      <NA> exon:ENST00000456328.2:1 ENSG00000223972.5\n",
       "        [4]      <NA> exon:ENST00000456328.2:2 ENSG00000223972.5\n",
       "        [5]      <NA> exon:ENST00000456328.2:3 ENSG00000223972.5\n",
       "        ...       ...                      ...               ...\n",
       "  [2949352]      <NA>        ENST00000387460.2 ENSG00000210195.2\n",
       "  [2949353]      <NA> exon:ENST00000387460.2:1 ENSG00000210195.2\n",
       "  [2949354]      <NA>        ENSG00000210196.2 ENSG00000210196.2\n",
       "  [2949355]      <NA>        ENST00000387461.2 ENSG00000210196.2\n",
       "  [2949356]      <NA> exon:ENST00000387461.2:1 ENSG00000210196.2\n",
       "                                     gene_type   gene_name       level\n",
       "                                   <character> <character> <character>\n",
       "        [1] transcribed_unprocessed_pseudogene     DDX11L1           2\n",
       "        [2] transcribed_unprocessed_pseudogene     DDX11L1           2\n",
       "        [3] transcribed_unprocessed_pseudogene     DDX11L1           2\n",
       "        [4] transcribed_unprocessed_pseudogene     DDX11L1           2\n",
       "        [5] transcribed_unprocessed_pseudogene     DDX11L1           2\n",
       "        ...                                ...         ...         ...\n",
       "  [2949352]                            Mt_tRNA       MT-TT           3\n",
       "  [2949353]                            Mt_tRNA       MT-TT           3\n",
       "  [2949354]                            Mt_tRNA       MT-TP           3\n",
       "  [2949355]                            Mt_tRNA       MT-TP           3\n",
       "  [2949356]                            Mt_tRNA       MT-TP           3\n",
       "                hgnc_id          havana_gene            Parent\n",
       "            <character>          <character>   <CharacterList>\n",
       "        [1]  HGNC:37102 OTTHUMG00000000961.2                  \n",
       "        [2]  HGNC:37102 OTTHUMG00000000961.2 ENSG00000223972.5\n",
       "        [3]  HGNC:37102 OTTHUMG00000000961.2 ENST00000456328.2\n",
       "        [4]  HGNC:37102 OTTHUMG00000000961.2 ENST00000456328.2\n",
       "        [5]  HGNC:37102 OTTHUMG00000000961.2 ENST00000456328.2\n",
       "        ...         ...                  ...               ...\n",
       "  [2949352]   HGNC:7499                 <NA> ENSG00000210195.2\n",
       "  [2949353]   HGNC:7499                 <NA> ENST00000387460.2\n",
       "  [2949354]   HGNC:7494                 <NA>                  \n",
       "  [2949355]   HGNC:7494                 <NA> ENSG00000210196.2\n",
       "  [2949356]   HGNC:7494                 <NA> ENST00000387461.2\n",
       "                transcript_id      transcript_type transcript_name\n",
       "                  <character>          <character>     <character>\n",
       "        [1]              <NA>                 <NA>            <NA>\n",
       "        [2] ENST00000456328.2 processed_transcript     DDX11L1-202\n",
       "        [3] ENST00000456328.2 processed_transcript     DDX11L1-202\n",
       "        [4] ENST00000456328.2 processed_transcript     DDX11L1-202\n",
       "        [5] ENST00000456328.2 processed_transcript     DDX11L1-202\n",
       "        ...               ...                  ...             ...\n",
       "  [2949352] ENST00000387460.2              Mt_tRNA       MT-TT-201\n",
       "  [2949353] ENST00000387460.2              Mt_tRNA       MT-TT-201\n",
       "  [2949354]              <NA>                 <NA>            <NA>\n",
       "  [2949355] ENST00000387461.2              Mt_tRNA       MT-TP-201\n",
       "  [2949356] ENST00000387461.2              Mt_tRNA       MT-TP-201\n",
       "            transcript_support_level             tag    havana_transcript\n",
       "                         <character> <CharacterList>          <character>\n",
       "        [1]                     <NA>                                 <NA>\n",
       "        [2]                        1           basic OTTHUMT00000362751.1\n",
       "        [3]                        1           basic OTTHUMT00000362751.1\n",
       "        [4]                        1           basic OTTHUMT00000362751.1\n",
       "        [5]                        1           basic OTTHUMT00000362751.1\n",
       "        ...                      ...             ...                  ...\n",
       "  [2949352]                       NA           basic                 <NA>\n",
       "  [2949353]                       NA           basic                 <NA>\n",
       "  [2949354]                     <NA>                                 <NA>\n",
       "  [2949355]                       NA           basic                 <NA>\n",
       "  [2949356]                       NA           basic                 <NA>\n",
       "            exon_number           exon_id             ont  protein_id\n",
       "            <character>       <character> <CharacterList> <character>\n",
       "        [1]        <NA>              <NA>                        <NA>\n",
       "        [2]        <NA>              <NA>                        <NA>\n",
       "        [3]           1 ENSE00002234944.1                        <NA>\n",
       "        [4]           2 ENSE00003582793.1                        <NA>\n",
       "        [5]           3 ENSE00002312635.1                        <NA>\n",
       "        ...         ...               ...             ...         ...\n",
       "  [2949352]        <NA>              <NA>                        <NA>\n",
       "  [2949353]           1 ENSE00001544475.2                        <NA>\n",
       "  [2949354]        <NA>              <NA>                        <NA>\n",
       "  [2949355]        <NA>              <NA>                        <NA>\n",
       "  [2949356]           1 ENSE00001544473.2                        <NA>\n",
       "                 ccdsid\n",
       "            <character>\n",
       "        [1]        <NA>\n",
       "        [2]        <NA>\n",
       "        [3]        <NA>\n",
       "        [4]        <NA>\n",
       "        [5]        <NA>\n",
       "        ...         ...\n",
       "  [2949352]        <NA>\n",
       "  [2949353]        <NA>\n",
       "  [2949354]        <NA>\n",
       "  [2949355]        <NA>\n",
       "  [2949356]        <NA>\n",
       "  -------\n",
       "  seqinfo: 25 sequences from an unspecified genome; no seqlengths"
      ]
     },
     "metadata": {},
     "output_type": "display_data"
    }
   ],
   "source": [
    "genc"
   ]
  },
  {
   "cell_type": "code",
   "execution_count": 4,
   "metadata": {},
   "outputs": [
    {
     "data": {
      "text/plain": [
       "\n",
       "                                  gene                             transcript \n",
       "                                 60656                                 229580 \n",
       "                                  exon                                    CDS \n",
       "                               1398443                                 774993 \n",
       "                           start_codon                             stop_codon \n",
       "                                 88717                                  81122 \n",
       "                        five_prime_UTR                        three_prime_UTR \n",
       "                                155436                                 160294 \n",
       "stop_codon_redefined_as_selenocysteine \n",
       "                                   115 "
      ]
     },
     "metadata": {},
     "output_type": "display_data"
    }
   ],
   "source": [
    "table(genc$type)"
   ]
  },
  {
   "cell_type": "code",
   "execution_count": 5,
   "metadata": {},
   "outputs": [],
   "source": [
    "genc = subset(genc, type %in% c('transcript', 'CDS', 'five_prime_UTR', 'three_prime_UTR'))"
   ]
  },
  {
   "cell_type": "code",
   "execution_count": 6,
   "metadata": {},
   "outputs": [
    {
     "name": "stderr",
     "output_type": "stream",
     "text": [
      "\n",
      "Attaching package: ‘dplyr’\n",
      "\n",
      "\n",
      "The following objects are masked from ‘package:GenomicRanges’:\n",
      "\n",
      "    intersect, setdiff, union\n",
      "\n",
      "\n",
      "The following object is masked from ‘package:GenomeInfoDb’:\n",
      "\n",
      "    intersect\n",
      "\n",
      "\n",
      "The following objects are masked from ‘package:IRanges’:\n",
      "\n",
      "    collapse, desc, intersect, setdiff, slice, union\n",
      "\n",
      "\n",
      "The following objects are masked from ‘package:S4Vectors’:\n",
      "\n",
      "    first, intersect, rename, setdiff, setequal, union\n",
      "\n",
      "\n",
      "The following objects are masked from ‘package:BiocGenerics’:\n",
      "\n",
      "    combine, intersect, setdiff, union\n",
      "\n",
      "\n",
      "The following objects are masked from ‘package:stats’:\n",
      "\n",
      "    filter, lag\n",
      "\n",
      "\n",
      "The following objects are masked from ‘package:base’:\n",
      "\n",
      "    intersect, setdiff, setequal, union\n",
      "\n",
      "\n"
     ]
    }
   ],
   "source": [
    "library(GenomicRanges)\n",
    "library(dplyr)"
   ]
  },
  {
   "cell_type": "code",
   "execution_count": 7,
   "metadata": {},
   "outputs": [
    {
     "data": {
      "text/plain": [
       "GRanges object with 420225 ranges and 2 metadata columns:\n",
       "           seqnames          ranges strand |        type   variant_id\n",
       "              <Rle>       <IRanges>  <Rle> | <character>  <character>\n",
       "       [1]    chr21 5051593-5051594      * |         INS nssv14017801\n",
       "       [2]    chr21 5064052-5066138      * |         DEL nssv14300595\n",
       "       [3]    chr21 5064052-5066138      * |         DEL nssv14301211\n",
       "       [4]    chr21 5064052-5066138      * |         DEL nssv14301212\n",
       "       [5]    chr21 5064052-5066138      * |         DEL nssv14301213\n",
       "       ...      ...             ...    ... .         ...          ...\n",
       "  [420221]    chr21        46699865      * |         INS nssv14662319\n",
       "  [420222]    chr21        46699867      * |         INS nssv14667619\n",
       "  [420223]    chr21        46699891      * |         INS nssv14670897\n",
       "  [420224]    chr21        46699928      * |         INS nssv14657123\n",
       "  [420225]    chr21        46699957      * |         INS nssv14663905\n",
       "  -------\n",
       "  seqinfo: 1 sequence from an unspecified genome; no seqlengths"
      ]
     },
     "metadata": {},
     "output_type": "display_data"
    }
   ],
   "source": [
    "vars = read.table('all_variants_chr21.tsv', as.is=TRUE, sep='\\t', header=TRUE)\n",
    "vars.gr = vars %>% mutate(chr=paste0('chr', chr)) %>% makeGRangesFromDataFrame(keep.extra.columns = TRUE)\n",
    "vars.gr"
   ]
  },
  {
   "cell_type": "code",
   "execution_count": 9,
   "metadata": {},
   "outputs": [
    {
     "data": {
      "text/html": [
       "<table>\n",
       "<caption>A data.frame: 6 × 6</caption>\n",
       "<thead>\n",
       "\t<tr><th></th><th scope=col>variant_id</th><th scope=col>gene_id</th><th scope=col>gene_name</th><th scope=col>transcript_id</th><th scope=col>exon_number</th><th scope=col>type</th></tr>\n",
       "\t<tr><th></th><th scope=col>&lt;chr&gt;</th><th scope=col>&lt;chr&gt;</th><th scope=col>&lt;chr&gt;</th><th scope=col>&lt;chr&gt;</th><th scope=col>&lt;chr&gt;</th><th scope=col>&lt;fct&gt;</th></tr>\n",
       "</thead>\n",
       "<tbody>\n",
       "\t<tr><th scope=row>1</th><td>nssv13693287</td><td>ENSG00000280071.4</td><td>GATD3B</td><td>ENST00000624810.3</td><td>NA</td><td>transcript</td></tr>\n",
       "\t<tr><th scope=row>2</th><td>nssv13693287</td><td>ENSG00000280071.4</td><td>GATD3B</td><td>ENST00000625036.3</td><td>NA</td><td>transcript</td></tr>\n",
       "\t<tr><th scope=row>3</th><td>nssv14395136</td><td>ENSG00000280071.4</td><td>GATD3B</td><td>ENST00000624810.3</td><td>NA</td><td>transcript</td></tr>\n",
       "\t<tr><th scope=row>4</th><td>nssv14395136</td><td>ENSG00000280071.4</td><td>GATD3B</td><td>ENST00000625036.3</td><td>NA</td><td>transcript</td></tr>\n",
       "\t<tr><th scope=row>5</th><td>nssv14031467</td><td>ENSG00000280071.4</td><td>GATD3B</td><td>ENST00000624810.3</td><td>NA</td><td>transcript</td></tr>\n",
       "\t<tr><th scope=row>6</th><td>nssv14031467</td><td>ENSG00000280071.4</td><td>GATD3B</td><td>ENST00000625036.3</td><td>NA</td><td>transcript</td></tr>\n",
       "</tbody>\n",
       "</table>\n"
      ],
      "text/latex": [
       "A data.frame: 6 × 6\n",
       "\\begin{tabular}{r|llllll}\n",
       "  & variant\\_id & gene\\_id & gene\\_name & transcript\\_id & exon\\_number & type\\\\\n",
       "  & <chr> & <chr> & <chr> & <chr> & <chr> & <fct>\\\\\n",
       "\\hline\n",
       "\t1 & nssv13693287 & ENSG00000280071.4 & GATD3B & ENST00000624810.3 & NA & transcript\\\\\n",
       "\t2 & nssv13693287 & ENSG00000280071.4 & GATD3B & ENST00000625036.3 & NA & transcript\\\\\n",
       "\t3 & nssv14395136 & ENSG00000280071.4 & GATD3B & ENST00000624810.3 & NA & transcript\\\\\n",
       "\t4 & nssv14395136 & ENSG00000280071.4 & GATD3B & ENST00000625036.3 & NA & transcript\\\\\n",
       "\t5 & nssv14031467 & ENSG00000280071.4 & GATD3B & ENST00000624810.3 & NA & transcript\\\\\n",
       "\t6 & nssv14031467 & ENSG00000280071.4 & GATD3B & ENST00000625036.3 & NA & transcript\\\\\n",
       "\\end{tabular}\n"
      ],
      "text/markdown": [
       "\n",
       "A data.frame: 6 × 6\n",
       "\n",
       "| <!--/--> | variant_id &lt;chr&gt; | gene_id &lt;chr&gt; | gene_name &lt;chr&gt; | transcript_id &lt;chr&gt; | exon_number &lt;chr&gt; | type &lt;fct&gt; |\n",
       "|---|---|---|---|---|---|---|\n",
       "| 1 | nssv13693287 | ENSG00000280071.4 | GATD3B | ENST00000624810.3 | NA | transcript |\n",
       "| 2 | nssv13693287 | ENSG00000280071.4 | GATD3B | ENST00000625036.3 | NA | transcript |\n",
       "| 3 | nssv14395136 | ENSG00000280071.4 | GATD3B | ENST00000624810.3 | NA | transcript |\n",
       "| 4 | nssv14395136 | ENSG00000280071.4 | GATD3B | ENST00000625036.3 | NA | transcript |\n",
       "| 5 | nssv14031467 | ENSG00000280071.4 | GATD3B | ENST00000624810.3 | NA | transcript |\n",
       "| 6 | nssv14031467 | ENSG00000280071.4 | GATD3B | ENST00000625036.3 | NA | transcript |\n",
       "\n"
      ],
      "text/plain": [
       "  variant_id   gene_id           gene_name transcript_id     exon_number\n",
       "1 nssv13693287 ENSG00000280071.4 GATD3B    ENST00000624810.3 NA         \n",
       "2 nssv13693287 ENSG00000280071.4 GATD3B    ENST00000625036.3 NA         \n",
       "3 nssv14395136 ENSG00000280071.4 GATD3B    ENST00000624810.3 NA         \n",
       "4 nssv14395136 ENSG00000280071.4 GATD3B    ENST00000625036.3 NA         \n",
       "5 nssv14031467 ENSG00000280071.4 GATD3B    ENST00000624810.3 NA         \n",
       "6 nssv14031467 ENSG00000280071.4 GATD3B    ENST00000625036.3 NA         \n",
       "  type      \n",
       "1 transcript\n",
       "2 transcript\n",
       "3 transcript\n",
       "4 transcript\n",
       "5 transcript\n",
       "6 transcript"
      ]
     },
     "metadata": {},
     "output_type": "display_data"
    },
    {
     "data": {
      "text/html": [
       "9448086"
      ],
      "text/latex": [
       "9448086"
      ],
      "text/markdown": [
       "9448086"
      ],
      "text/plain": [
       "[1] 9448086"
      ]
     },
     "metadata": {},
     "output_type": "display_data"
    }
   ],
   "source": [
    "var.gene.df = findOverlaps(vars.gr, genc) %>% as.data.frame %>%\n",
    "    filter(genc$gene_type[subjectHits] == 'protein_coding') %>%\n",
    "    mutate(variant_id=vars.gr$variant_id[queryHits],\n",
    "           gene_id=genc$gene_id[subjectHits],\n",
    "           gene_name=genc$gene_name[subjectHits],\n",
    "           transcript_id=genc$transcript_id[subjectHits],\n",
    "           exon_number=genc$exon_number[subjectHits], type=genc$type[subjectHits]) %>% \n",
    "    select(-queryHits, -subjectHits) %>% unique\n",
    "head(var.gene.df)\n",
    "nrow(var.gene.df)"
   ]
  },
  {
   "cell_type": "code",
   "execution_count": 10,
   "metadata": {},
   "outputs": [
    {
     "name": "stderr",
     "output_type": "stream",
     "text": [
      "`summarise()` regrouping output by 'variant_id', 'gene_id', 'gene_name', 'transcript_id' (override with `.groups` argument)\n",
      "\n"
     ]
    },
    {
     "data": {
      "text/html": [
       "<table>\n",
       "<caption>A grouped_df: 6 × 6</caption>\n",
       "<thead>\n",
       "\t<tr><th scope=col>variant_id</th><th scope=col>gene_id</th><th scope=col>gene_name</th><th scope=col>transcript_id</th><th scope=col>type</th><th scope=col>exon_number</th></tr>\n",
       "\t<tr><th scope=col>&lt;chr&gt;</th><th scope=col>&lt;chr&gt;</th><th scope=col>&lt;chr&gt;</th><th scope=col>&lt;chr&gt;</th><th scope=col>&lt;fct&gt;</th><th scope=col>&lt;chr&gt;</th></tr>\n",
       "</thead>\n",
       "<tbody>\n",
       "\t<tr><td>essv100139</td><td>ENSG00000160209.19</td><td>PDXK</td><td>ENST00000291565.9 </td><td>transcript     </td><td> </td></tr>\n",
       "\t<tr><td>essv100139</td><td>ENSG00000160209.19</td><td>PDXK</td><td>ENST00000291565.9 </td><td>CDS            </td><td>3</td></tr>\n",
       "\t<tr><td>essv100139</td><td>ENSG00000160209.19</td><td>PDXK</td><td>ENST00000327574.4 </td><td>transcript     </td><td> </td></tr>\n",
       "\t<tr><td>essv100139</td><td>ENSG00000160209.19</td><td>PDXK</td><td>ENST00000327574.4 </td><td>three_prime_UTR</td><td>4</td></tr>\n",
       "\t<tr><td>essv100139</td><td>ENSG00000160209.19</td><td>PDXK</td><td>ENST00000343528.10</td><td>transcript     </td><td> </td></tr>\n",
       "\t<tr><td>essv100139</td><td>ENSG00000160209.19</td><td>PDXK</td><td>ENST00000398078.7 </td><td>transcript     </td><td> </td></tr>\n",
       "</tbody>\n",
       "</table>\n"
      ],
      "text/latex": [
       "A grouped\\_df: 6 × 6\n",
       "\\begin{tabular}{llllll}\n",
       " variant\\_id & gene\\_id & gene\\_name & transcript\\_id & type & exon\\_number\\\\\n",
       " <chr> & <chr> & <chr> & <chr> & <fct> & <chr>\\\\\n",
       "\\hline\n",
       "\t essv100139 & ENSG00000160209.19 & PDXK & ENST00000291565.9  & transcript      &  \\\\\n",
       "\t essv100139 & ENSG00000160209.19 & PDXK & ENST00000291565.9  & CDS             & 3\\\\\n",
       "\t essv100139 & ENSG00000160209.19 & PDXK & ENST00000327574.4  & transcript      &  \\\\\n",
       "\t essv100139 & ENSG00000160209.19 & PDXK & ENST00000327574.4  & three\\_prime\\_UTR & 4\\\\\n",
       "\t essv100139 & ENSG00000160209.19 & PDXK & ENST00000343528.10 & transcript      &  \\\\\n",
       "\t essv100139 & ENSG00000160209.19 & PDXK & ENST00000398078.7  & transcript      &  \\\\\n",
       "\\end{tabular}\n"
      ],
      "text/markdown": [
       "\n",
       "A grouped_df: 6 × 6\n",
       "\n",
       "| variant_id &lt;chr&gt; | gene_id &lt;chr&gt; | gene_name &lt;chr&gt; | transcript_id &lt;chr&gt; | type &lt;fct&gt; | exon_number &lt;chr&gt; |\n",
       "|---|---|---|---|---|---|\n",
       "| essv100139 | ENSG00000160209.19 | PDXK | ENST00000291565.9  | transcript      | <!----> |\n",
       "| essv100139 | ENSG00000160209.19 | PDXK | ENST00000291565.9  | CDS             | 3 |\n",
       "| essv100139 | ENSG00000160209.19 | PDXK | ENST00000327574.4  | transcript      | <!----> |\n",
       "| essv100139 | ENSG00000160209.19 | PDXK | ENST00000327574.4  | three_prime_UTR | 4 |\n",
       "| essv100139 | ENSG00000160209.19 | PDXK | ENST00000343528.10 | transcript      | <!----> |\n",
       "| essv100139 | ENSG00000160209.19 | PDXK | ENST00000398078.7  | transcript      | <!----> |\n",
       "\n"
      ],
      "text/plain": [
       "  variant_id gene_id            gene_name transcript_id      type           \n",
       "1 essv100139 ENSG00000160209.19 PDXK      ENST00000291565.9  transcript     \n",
       "2 essv100139 ENSG00000160209.19 PDXK      ENST00000291565.9  CDS            \n",
       "3 essv100139 ENSG00000160209.19 PDXK      ENST00000327574.4  transcript     \n",
       "4 essv100139 ENSG00000160209.19 PDXK      ENST00000327574.4  three_prime_UTR\n",
       "5 essv100139 ENSG00000160209.19 PDXK      ENST00000343528.10 transcript     \n",
       "6 essv100139 ENSG00000160209.19 PDXK      ENST00000398078.7  transcript     \n",
       "  exon_number\n",
       "1            \n",
       "2 3          \n",
       "3            \n",
       "4 4          \n",
       "5            \n",
       "6            "
      ]
     },
     "metadata": {},
     "output_type": "display_data"
    },
    {
     "data": {
      "text/html": [
       "3582430"
      ],
      "text/latex": [
       "3582430"
      ],
      "text/markdown": [
       "3582430"
      ],
      "text/plain": [
       "[1] 3582430"
      ]
     },
     "metadata": {},
     "output_type": "display_data"
    }
   ],
   "source": [
    "var.gene.df = var.gene.df %>% group_by(variant_id, gene_id, gene_name, transcript_id, type) %>% summarize(exon_number=paste(sort(unique(exon_number)), collapse=';'))\n",
    "head(var.gene.df)\n",
    "nrow(var.gene.df)"
   ]
  },
  {
   "cell_type": "code",
   "execution_count": 11,
   "metadata": {},
   "outputs": [],
   "source": [
    "write.table(var.gene.df, file='variants.genes.chr21.tsv', sep='\\t', quote=FALSE, row.names=FALSE)"
   ]
  },
  {
   "cell_type": "markdown",
   "metadata": {},
   "source": [
    "```\n",
    "gzip variants.genes.chr21.tsv\n",
    "dx upload variants.genes.chr21.tsv.gz --path jmonlong-notebook-test/\n",
    "dx upload variant-gene-overlap.ipynb --path jmonlong-notebook-test/\n",
    "```"
   ]
  }
 ],
 "metadata": {
  "kernelspec": {
   "display_name": "R",
   "language": "R",
   "name": "ir"
  },
  "language_info": {
   "codemirror_mode": "r",
   "file_extension": ".r",
   "mimetype": "text/x-r-source",
   "name": "R",
   "pygments_lexer": "r",
   "version": "3.6.3"
  }
 },
 "nbformat": 4,
 "nbformat_minor": 4
}
